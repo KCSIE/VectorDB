{
 "cells": [
  {
   "cell_type": "markdown",
   "metadata": {},
   "source": [
    "# Convert the HDF5 File"
   ]
  },
  {
   "cell_type": "code",
   "execution_count": 21,
   "metadata": {},
   "outputs": [],
   "source": [
    "import h5py\n",
    "import numpy as np\n",
    "import json\n",
    "\n",
    "def convert_hdf5_to_binary(input_file, output_prefix):\n",
    "  with h5py.File(input_file, 'r') as f:\n",
    "    train = f['train'][:]\n",
    "    test = f['test'][:]\n",
    "    neighbours = f['neighbors'][:]\n",
    "\n",
    "    train = train.astype(np.float32)\n",
    "    test = test.astype(np.float32)\n",
    "    neighbours = neighbours.astype(np.int32)\n",
    "\n",
    "    metadata = {\n",
    "      'train_shape': train.shape,\n",
    "      'test_shape': test.shape,\n",
    "      'neighbours_shape': neighbours.shape\n",
    "    }\n",
    "\n",
    "    with open(f'./{output_prefix}/{output_prefix}_metadata.json', 'w') as mf:\n",
    "      json.dump(metadata, mf)\n",
    "\n",
    "    train.tofile(f'./{output_prefix}/{output_prefix}_train.bin')\n",
    "    test.tofile(f'./{output_prefix}/{output_prefix}_test.bin')\n",
    "    neighbours.tofile(f'./{output_prefix}/{output_prefix}_neighbors.bin')"
   ]
  },
  {
   "cell_type": "code",
   "execution_count": 22,
   "metadata": {},
   "outputs": [],
   "source": [
    "convert_hdf5_to_binary('./nytimes-256-angular/nytimes-256-angular.hdf5', 'nytimes-256-angular')"
   ]
  },
  {
   "cell_type": "markdown",
   "metadata": {},
   "source": [
    "# Plot Final Results"
   ]
  },
  {
   "cell_type": "code",
   "execution_count": null,
   "metadata": {},
   "outputs": [],
   "source": [
    "import json\n",
    "import os\n",
    "import glob\n",
    "\n",
    "def read_benchmark_results(folder_path):\n",
    "    json_path = os.path.join(folder_path, \"benchmark_results.json\")    \n",
    "    try:\n",
    "        with open(json_path, 'r') as f:\n",
    "            data = json.load(f)\n",
    "        \n",
    "        results = []\n",
    "        for param, case in data['cases'].items():\n",
    "            results.append({\n",
    "                \"qps\": round(case[\"search_qps\"], 2),\n",
    "                \"recall\": round(case[\"recall\"], 4),\n",
    "                \"param\": param\n",
    "            })\n",
    "        return results\n",
    "    except FileNotFoundError:\n",
    "        print(f\"Warning: No benchmark results found in {folder_path}\")\n",
    "        return None\n",
    "\n",
    "datasets = {}\n",
    "dataset_folders = glob.glob(\"*-*-*\")\n",
    "for folder in dataset_folders:\n",
    "    results = read_benchmark_results(folder)\n",
    "    if results:\n",
    "        datasets[folder] = results"
   ]
  },
  {
   "cell_type": "code",
   "execution_count": null,
   "metadata": {},
   "outputs": [],
   "source": [
    "import matplotlib.pyplot as plt\n",
    "\n",
    "plt.figure(figsize=(20, 10))\n",
    "\n",
    "for dataset_name, data in datasets.items():\n",
    "  data.sort(key=lambda x: x[\"recall\"] * x[\"qps\"])\n",
    "  \n",
    "  recall = [d[\"recall\"] for d in data]\n",
    "  qps = [d[\"qps\"] for d in data]\n",
    "  params = [d[\"param\"] for d in data]\n",
    "  \n",
    "  plt.plot(recall, qps, marker='o', label=dataset_name)\n",
    "  \n",
    "  # for i, param in enumerate(params):\n",
    "  #   plt.annotate(param, (recall[i], qps[i]), textcoords=\"offset points\", xytext=(5, -10), ha='center')\n",
    "\n",
    "plt.xlabel(\"Recall\")\n",
    "plt.ylabel(\"QPS\")\n",
    "plt.title(\"Search Recall/QPS Tradeoff (k=10)\")\n",
    "plt.legend()\n",
    "plt.grid(True)\n",
    "plt.show()"
   ]
  }
 ],
 "metadata": {
  "kernelspec": {
   "display_name": "daily",
   "language": "python",
   "name": "python3"
  },
  "language_info": {
   "codemirror_mode": {
    "name": "ipython",
    "version": 3
   },
   "file_extension": ".py",
   "mimetype": "text/x-python",
   "name": "python",
   "nbconvert_exporter": "python",
   "pygments_lexer": "ipython3",
   "version": "3.9.13"
  }
 },
 "nbformat": 4,
 "nbformat_minor": 2
}
